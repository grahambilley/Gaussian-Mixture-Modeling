{
 "cells": [
  {
   "cell_type": "markdown",
   "metadata": {},
   "source": [
    "#### Testing Numpy\n"
   ]
  },
  {
   "cell_type": "code",
   "execution_count": 1,
   "metadata": {},
   "outputs": [],
   "source": [
    "import numpy as np"
   ]
  },
  {
   "cell_type": "code",
   "execution_count": 2,
   "metadata": {},
   "outputs": [],
   "source": [
    "data = np.array(\n",
    "    [[1,1,1],\n",
    "     [5,4,2],\n",
    "     [9,3,4],\n",
    "     [5,4,4]])\n",
    "\n",
    "taus = np.array(\n",
    "    [[0.5, 0.5],\n",
    "     [0.5, 0.5],\n",
    "     [0.5, 0.5],\n",
    "     [0.5, 0.5]])\n",
    "\n",
    "mus = np.array(\n",
    "    [[0, 0, 0],\n",
    "     [1, 1, 1]])\n",
    "\n",
    "pis = np.array(\n",
    "    [0.4, 0.6]\n",
    ")\n",
    "\n",
    "sigma = np.diag(np.ones(4))"
   ]
  },
  {
   "cell_type": "code",
   "execution_count": 3,
   "metadata": {
    "scrolled": true
   },
   "outputs": [
    {
     "name": "stdout",
     "output_type": "stream",
     "text": [
      "m: 4\n",
      "n: 3\n",
      "[[1. 0. 0. 0.]\n",
      " [0. 1. 0. 0.]\n",
      " [0. 0. 1. 0.]\n",
      " [0. 0. 0. 1.]]\n"
     ]
    }
   ],
   "source": [
    "m, n = data.shape\n",
    "print(f'm: {m}')\n",
    "print(f'n: {n}')\n",
    "\n",
    "print(sigma)\n"
   ]
  },
  {
   "cell_type": "markdown",
   "metadata": {},
   "source": [
    "#### GOOD"
   ]
  },
  {
   "cell_type": "code",
   "execution_count": 5,
   "metadata": {},
   "outputs": [],
   "source": [
    "pis_next = np.sum(taus, axis=0)/m\n",
    "\n",
    "mus_next = ((taus.T @ data).T/np.sum(taus, axis=0)).T\n",
    "\n",
    "C = np.zeros(shape=(2,3,3))\n",
    "for k in range(2):     # clusters\n",
    "    for i in range(4): # datapoints\n",
    "        tau_ik = taus[i,k]\n",
    "        vec = data[i,:] - mus_next[k,:]\n",
    "        C[k,:,:] += np.outer(vec, vec)*tau_ik\n",
    "    C[k,:,:] /= np.sum(taus, axis=0)[k]"
   ]
  },
  {
   "cell_type": "code",
   "execution_count": 98,
   "metadata": {},
   "outputs": [
    {
     "data": {
      "text/plain": [
       "array([[8.    , 2.    , 3.    ],\n",
       "       [2.    , 1.5   , 1.    ],\n",
       "       [3.    , 1.    , 1.6875]])"
      ]
     },
     "execution_count": 98,
     "metadata": {},
     "output_type": "execute_result"
    }
   ],
   "source": [
    "C[1]"
   ]
  },
  {
   "cell_type": "code",
   "execution_count": 93,
   "metadata": {
    "collapsed": true
   },
   "outputs": [
    {
     "name": "stdout",
     "output_type": "stream",
     "text": [
      "data: \n",
      " [[1 1 1]\n",
      " [2 2 2]\n",
      " [3 3 3]\n",
      " [4 4 4]] \n",
      "\n",
      "mus_next: \n",
      " [[2.5 2.5 2.5]\n",
      " [2.5 2.5 2.5]] \n",
      "\n",
      "taus: \n",
      " [[0.5 0.5]\n",
      " [0.5 0.5]\n",
      " [0.5 0.5]\n",
      " [0.5 0.5]] \n",
      "\n",
      "----- For one cluster ----- \n",
      "\n",
      "x^i - mu_k: \n",
      " [[-1.5 -1.5 -1.5]\n",
      " [-0.5 -0.5 -0.5]\n",
      " [ 0.5  0.5  0.5]\n",
      " [ 1.5  1.5  1.5]] \n",
      "\n",
      "tau_k: \n",
      " [0.5 0.5 0.5 0.5] \n",
      "\n",
      ":Sum tau_k^i \n",
      " 2.0 \n",
      "\n",
      "Sum tau_k^i * (x^i - mu_k): \n",
      " [[-3. -3. -3.]\n",
      " [-1. -1. -1.]\n",
      " [ 1.  1.  1.]\n",
      " [ 3.  3.  3.]] \n",
      "\n"
     ]
    }
   ],
   "source": [
    "print(f'data: \\n {data} \\n')\n",
    "print(f'mus_next: \\n {mus_next} \\n')\n",
    "print(f'taus: \\n {taus} \\n')\n",
    "\n",
    "print('----- For one cluster ----- \\n')\n",
    "\n",
    "print(f'x^i - mu_k: \\n {data-mus_next[0]} \\n')\n",
    "print(f'tau_k: \\n {taus[:,0]} \\n')\n",
    "print(f':Sum tau_k^i \\n {np.sum(taus, axis=0)[0]} \\n')\n",
    "print(f'Sum tau_k^i * (x^i - mu_k): \\n {(data-mus_next[0])*np.sum(taus, axis=0)[0]} \\n')\n",
    "\n",
    "# print(f'Sigma : \\n {(((data-mus_next[0])*np.sum(taus, axis=0)[0]) @ ((data-mus_next[0]).T))/np.sum(taus, axis=0)[0]} \\n') ### Wrong!"
   ]
  },
  {
   "cell_type": "code",
   "execution_count": null,
   "metadata": {},
   "outputs": [],
   "source": []
  },
  {
   "cell_type": "code",
   "execution_count": 101,
   "metadata": {},
   "outputs": [],
   "source": [
    "def fast_gaussian_pdf(x, mu, sigma, r):\n",
    "    n, m = x.shape\n",
    "\n",
    "    # Compute the eigendecomposition of sigma, in DESCENDING order of eigenvalues\n",
    "    eVals, eVecs = np.linalg.eig(sigma)\n",
    "    idx = eVals.argsort()[::-1]   \n",
    "    eVals = eVals[idx]\n",
    "    eVecs = eVecs[:,idx]\n",
    "\n",
    "    # Compute the low-rank approximation of sigma\n",
    "    U_hat = eVecs[:,0:r]\n",
    "    Lambda_hat = np.diag(eVals[0:r])\n",
    "    Sigma_hat = U_hat @ Lambda_hat @ U_hat.T\n",
    "\n",
    "    # Compute the transformation of the data and parameters\n",
    "    data_hat = (U_hat.T @ data.T).T\n",
    "    mu_hat = (U_hat.T @ mu)\n",
    "\n",
    "    # Compute the log-likelihood of the density\n",
    "    A = -m*np.log(2*np.pi) - np.sum(np.log(eVals))\n",
    "    B = -1/2*np.sum((data_hat-mu_hat)/eVals,axis=1)\n",
    "\n",
    "    log_lik = np.exp(A+B)\n",
    "    \n",
    "    # Return the actual likelihood\n",
    "    return np.exp(log_lik)"
   ]
  },
  {
   "cell_type": "code",
   "execution_count": 54,
   "metadata": {},
   "outputs": [
    {
     "name": "stdout",
     "output_type": "stream",
     "text": [
      "4 \n",
      " 3 \n",
      " [[[8.     2.     3.    ]\n",
      "  [2.     1.5    1.    ]\n",
      "  [3.     1.     1.6875]]\n",
      "\n",
      " [[8.     2.     3.    ]\n",
      "  [2.     1.5    1.    ]\n",
      "  [3.     1.     1.6875]]]\n"
     ]
    }
   ],
   "source": []
  },
  {
   "cell_type": "code",
   "execution_count": 26,
   "metadata": {},
   "outputs": [],
   "source": [
    "r = 3\n",
    "sigma = C[1]\n",
    "mu = mus[1]\n",
    "\n",
    "# Compute the eigendecomposition of sigma, in DESCENDING order of eigenvalues\n",
    "eVals, eVecs = np.linalg.eig(sigma)\n",
    "idx = eVals.argsort()[::-1]   \n",
    "eVals = eVals[idx]\n",
    "eVecs = eVecs[:,idx]\n",
    "\n",
    "# Compute the low-rank approximation of sigma\n",
    "U_hat = eVecs[:,0:r]\n",
    "Lambda_hat = np.diag(eVals[0:r])\n",
    "Sigma_hat = U_hat @ Lambda_hat @ U_hat.T\n",
    "\n",
    "# Compute the transformation of the data and parameters\n",
    "data_hat = (U_hat.T @ data.T).T\n",
    "mu_hat = (U_hat.T @ mu)\n",
    "\n",
    "# Compute the log-likelihood of the density\n",
    "# A = -m*np.log(2*np.pi) - np.sum(np.log(eVals))\n",
    "# B = -1/2*np.sum((data_hat-mu_hat)**2/eVals[0:r],axis=1)\n",
    "\n",
    "log_lik = np.exp(A+B)"
   ]
  },
  {
   "cell_type": "code",
   "execution_count": 39,
   "metadata": {},
   "outputs": [
    {
     "data": {
      "text/plain": [
       "array([-10.28483599,   0.43505189,   0.18132429])"
      ]
     },
     "execution_count": 39,
     "metadata": {},
     "output_type": "execute_result"
    }
   ],
   "source": [
    "data_hat[2]"
   ]
  },
  {
   "cell_type": "code",
   "execution_count": 32,
   "metadata": {},
   "outputs": [
    {
     "data": {
      "text/plain": [
       "array([-1.51744272,  0.78171745,  0.29374382])"
      ]
     },
     "execution_count": 32,
     "metadata": {},
     "output_type": "execute_result"
    }
   ],
   "source": [
    "mu_hat"
   ]
  },
  {
   "cell_type": "code",
   "execution_count": 36,
   "metadata": {},
   "outputs": [],
   "source": [
    "x_minus_mu = (data_hat[1] - mu_hat)"
   ]
  },
  {
   "cell_type": "code",
   "execution_count": 38,
   "metadata": {},
   "outputs": [
    {
     "data": {
      "text/plain": [
       "26.000000000000004"
      ]
     },
     "execution_count": 38,
     "metadata": {},
     "output_type": "execute_result"
    }
   ],
   "source": [
    "np.dot(x_minus_mu, x_minus_mu)"
   ]
  },
  {
   "cell_type": "code",
   "execution_count": 46,
   "metadata": {},
   "outputs": [
    {
     "data": {
      "text/plain": [
       "array([[ 0.        ,  0.        ,  0.        ],\n",
       "       [-4.72112217,  1.51602184, -1.1885635 ],\n",
       "       [-8.76739328, -0.34666556, -0.11241954],\n",
       "       [-5.44723659,  1.98751147,  0.61433844]])"
      ]
     },
     "execution_count": 46,
     "metadata": {},
     "output_type": "execute_result"
    }
   ],
   "source": [
    "xmm = (data_hat - mu_hat)\n",
    "xmm"
   ]
  },
  {
   "cell_type": "code",
   "execution_count": 55,
   "metadata": {},
   "outputs": [
    {
     "name": "stdout",
     "output_type": "stream",
     "text": [
      "x_hat: [-6.23856489  2.29773929 -0.89481967] \n",
      "\n",
      "mu_hat: [-1.51744272  0.78171745  0.29374382] \n",
      "\n",
      "lambda_i: [9.79697239 0.9693119  0.42121571] \n",
      "\n"
     ]
    }
   ],
   "source": [
    "print(f'x_hat: {data_hat[1]} \\n')\n",
    "print(f'mu_hat: {mu_hat} \\n')\n",
    "print(f'lambda_i: {eVals[0:r]} \\n')"
   ]
  },
  {
   "cell_type": "code",
   "execution_count": 59,
   "metadata": {},
   "outputs": [
    {
     "data": {
      "text/plain": [
       "array([[0.        , 0.        , 0.        ],\n",
       "       [2.27509007, 2.37108638, 3.35382355],\n",
       "       [7.84601424, 0.12398177, 0.03000399],\n",
       "       [3.02873023, 4.07526398, 0.89600579]])"
      ]
     },
     "execution_count": 59,
     "metadata": {},
     "output_type": "execute_result"
    }
   ],
   "source": [
    "xmm**2/eVals[0:r]"
   ]
  },
  {
   "cell_type": "code",
   "execution_count": null,
   "metadata": {},
   "outputs": [],
   "source": []
  },
  {
   "cell_type": "code",
   "execution_count": 23,
   "metadata": {},
   "outputs": [
    {
     "data": {
      "text/plain": [
       "8.56653414157383"
      ]
     },
     "execution_count": 23,
     "metadata": {},
     "output_type": "execute_result"
    }
   ],
   "source": [
    "# (data_hat - mu_hat) @ (data_hat - mu_hat)\n",
    "                         \n",
    "(data_hat[0] - mu_hat[0]).T @ (data_hat[0] - mu_hat[0])"
   ]
  },
  {
   "cell_type": "code",
   "execution_count": 25,
   "metadata": {},
   "outputs": [
    {
     "ename": "ValueError",
     "evalue": "shapes (4,3) and (4,3) not aligned: 3 (dim 1) != 4 (dim 0)",
     "output_type": "error",
     "traceback": [
      "\u001b[1;31m---------------------------------------------------------------------------\u001b[0m",
      "\u001b[1;31mValueError\u001b[0m                                Traceback (most recent call last)",
      "\u001b[1;32m<ipython-input-25-56b2d7881cf0>\u001b[0m in \u001b[0;36m<module>\u001b[1;34m\u001b[0m\n\u001b[1;32m----> 1\u001b[1;33m \u001b[0mnp\u001b[0m\u001b[1;33m.\u001b[0m\u001b[0mdot\u001b[0m\u001b[1;33m(\u001b[0m\u001b[0mdata_hat\u001b[0m \u001b[1;33m-\u001b[0m \u001b[0mmu_hat\u001b[0m\u001b[1;33m,\u001b[0m \u001b[0mdata_hat\u001b[0m \u001b[1;33m-\u001b[0m \u001b[0mmu_hat\u001b[0m\u001b[1;33m)\u001b[0m\u001b[1;33m\u001b[0m\u001b[1;33m\u001b[0m\u001b[0m\n\u001b[0m",
      "\u001b[1;31mValueError\u001b[0m: shapes (4,3) and (4,3) not aligned: 3 (dim 1) != 4 (dim 0)"
     ]
    }
   ],
   "source": [
    "# np.dot(data_hat - mu_hat, data_hat - mu_hat)"
   ]
  },
  {
   "cell_type": "code",
   "execution_count": 12,
   "metadata": {
    "scrolled": true
   },
   "outputs": [
    {
     "data": {
      "text/plain": [
       "array([[ 0.        ,  0.        ,  0.        ],\n",
       "       [-4.72112217,  1.51602184, -1.1885635 ],\n",
       "       [-8.76739328, -0.34666556, -0.11241954],\n",
       "       [-5.44723659,  1.98751147,  0.61433844]])"
      ]
     },
     "execution_count": 12,
     "metadata": {},
     "output_type": "execute_result"
    }
   ],
   "source": [
    "(data_hat-mu_hat)"
   ]
  },
  {
   "cell_type": "code",
   "execution_count": 7,
   "metadata": {},
   "outputs": [
    {
     "data": {
      "text/plain": [
       "array([1.60405973e-04, 3.82802555e-04, 3.42896654e-04, 3.66440798e-05])"
      ]
     },
     "execution_count": 7,
     "metadata": {},
     "output_type": "execute_result"
    }
   ],
   "source": [
    "log_lik"
   ]
  },
  {
   "cell_type": "code",
   "execution_count": 8,
   "metadata": {},
   "outputs": [
    {
     "ename": "NameError",
     "evalue": "name 'x_hat' is not defined",
     "output_type": "error",
     "traceback": [
      "\u001b[1;31m---------------------------------------------------------------------------\u001b[0m",
      "\u001b[1;31mNameError\u001b[0m                                 Traceback (most recent call last)",
      "\u001b[1;32m<ipython-input-8-472701e980f9>\u001b[0m in \u001b[0;36m<module>\u001b[1;34m\u001b[0m\n\u001b[0;32m      5\u001b[0m \u001b[0mB\u001b[0m \u001b[1;33m=\u001b[0m \u001b[1;36m0\u001b[0m\u001b[1;33m\u001b[0m\u001b[1;33m\u001b[0m\u001b[0m\n\u001b[0;32m      6\u001b[0m \u001b[1;32mfor\u001b[0m \u001b[0mi\u001b[0m \u001b[1;32min\u001b[0m \u001b[0mrange\u001b[0m\u001b[1;33m(\u001b[0m\u001b[0mr\u001b[0m\u001b[1;33m)\u001b[0m\u001b[1;33m:\u001b[0m\u001b[1;33m\u001b[0m\u001b[1;33m\u001b[0m\u001b[0m\n\u001b[1;32m----> 7\u001b[1;33m     \u001b[0mB\u001b[0m \u001b[1;33m+=\u001b[0m \u001b[1;33m(\u001b[0m\u001b[0mx_hat\u001b[0m\u001b[1;33m[\u001b[0m\u001b[0mi\u001b[0m\u001b[1;33m]\u001b[0m \u001b[1;33m-\u001b[0m \u001b[0mmu_hat\u001b[0m\u001b[1;33m[\u001b[0m\u001b[0mi\u001b[0m\u001b[1;33m]\u001b[0m\u001b[1;33m)\u001b[0m\u001b[1;33m**\u001b[0m\u001b[1;36m2\u001b[0m\u001b[1;33m/\u001b[0m\u001b[0meVals\u001b[0m\u001b[1;33m[\u001b[0m\u001b[0mi\u001b[0m\u001b[1;33m]\u001b[0m\u001b[1;33m\u001b[0m\u001b[1;33m\u001b[0m\u001b[0m\n\u001b[0m\u001b[0;32m      8\u001b[0m \u001b[0mlog_lik\u001b[0m \u001b[1;33m=\u001b[0m \u001b[1;33m-\u001b[0m\u001b[1;33m(\u001b[0m\u001b[0mB\u001b[0m\u001b[1;33m/\u001b[0m\u001b[1;36m2\u001b[0m\u001b[1;33m)\u001b[0m \u001b[1;33m-\u001b[0m \u001b[0mA\u001b[0m\u001b[1;33m\u001b[0m\u001b[1;33m\u001b[0m\u001b[0m\n\u001b[0;32m      9\u001b[0m \u001b[1;33m\u001b[0m\u001b[0m\n",
      "\u001b[1;31mNameError\u001b[0m: name 'x_hat' is not defined"
     ]
    }
   ],
   "source": [
    "################ OLD ################\n",
    "\n",
    "# Compute the log-likelihood of the density\n",
    "A = (np.sum(np.log(eVals[0:r]))) ### Removed this since all probabilities were being rounded to 0\n",
    "B = 0\n",
    "for i in range(r):\n",
    "    B += (x_hat[i] - mu_hat[i])**2/eVals[i]\n",
    "log_lik = -(B/2) - A\n",
    "\n",
    "################ OLD ################"
   ]
  },
  {
   "cell_type": "code",
   "execution_count": 92,
   "metadata": {},
   "outputs": [],
   "source": []
  },
  {
   "cell_type": "code",
   "execution_count": 93,
   "metadata": {},
   "outputs": [
    {
     "data": {
      "text/plain": [
       "array([0.00100786, 0.00240522, 0.00215448, 0.00023024])"
      ]
     },
     "execution_count": 93,
     "metadata": {},
     "output_type": "execute_result"
    }
   ],
   "source": [
    "log_lik"
   ]
  },
  {
   "cell_type": "code",
   "execution_count": 89,
   "metadata": {},
   "outputs": [
    {
     "name": "stdout",
     "output_type": "stream",
     "text": [
      "data_hat: \n",
      " [[ -1.51744272   0.78171745   0.29374382]\n",
      " [ -6.23856489   2.29773929  -0.89481967]\n",
      " [-10.28483599   0.43505189   0.18132429]\n",
      " [ -6.9646793    2.76922892   0.90808226]] \n",
      "\n",
      "mu_hat: \n",
      " [-1.51744272  0.78171745  0.29374382] \n",
      "\n",
      "data_hat - mu_hat: \n",
      " [[ 0.          0.          0.        ]\n",
      " [-4.72112217  1.51602184 -1.1885635 ]\n",
      " [-8.76739328 -0.34666556 -0.11241954]\n",
      " [-5.44723659  1.98751147  0.61433844]] \n",
      "\n",
      "eVals: \n",
      " [9.79697239 0.9693119  0.42121571] \n",
      "\n",
      "(data_hat - mu_hat)/eVals: \n",
      " [[ 0.          0.          0.        ]\n",
      " [-0.48189604  1.56401861 -2.82174538]\n",
      " [-0.89490844 -0.35764088 -0.26689302]\n",
      " [-0.55601224  2.05043545  1.45848889]] \n",
      "\n"
     ]
    }
   ],
   "source": [
    "print(f'data_hat: \\n {data_hat} \\n')\n",
    "print(f'mu_hat: \\n {mu_hat} \\n')\n",
    "print(f'data_hat - mu_hat: \\n {data_hat - mu_hat} \\n')\n",
    "print(f'eVals: \\n {eVals} \\n')\n",
    "print(f'(data_hat - mu_hat)/eVals: \\n {(data_hat - mu_hat)/eVals} \\n')\n"
   ]
  },
  {
   "cell_type": "code",
   "execution_count": 90,
   "metadata": {
    "scrolled": true
   },
   "outputs": [
    {
     "data": {
      "text/plain": [
       "array([ 0.        , -1.73962281, -1.51944234,  2.9529121 ])"
      ]
     },
     "execution_count": 90,
     "metadata": {},
     "output_type": "execute_result"
    }
   ],
   "source": [
    "np.sum((data_hat - mu_hat)/eVals,axis=1)"
   ]
  },
  {
   "cell_type": "code",
   "execution_count": 91,
   "metadata": {},
   "outputs": [
    {
     "data": {
      "text/plain": [
       "-1.73962281"
      ]
     },
     "execution_count": 91,
     "metadata": {},
     "output_type": "execute_result"
    }
   ],
   "source": [
    "-0.48189604 + 1.56401861 -2.82174538"
   ]
  },
  {
   "cell_type": "code",
   "execution_count": 82,
   "metadata": {},
   "outputs": [
    {
     "data": {
      "text/plain": [
       "array([[9.99992611e-01, 1.00000000e+00, 9.99999990e-01],\n",
       "       [1.27590438e+01, 1.28957460e+02, 2.96760059e+02],\n",
       "       [0.00000000e+00, 0.00000000e+00, 0.00000000e+00],\n",
       "       [1.02072351e-01, 1.03165968e+00, 2.37408047e+00]])"
      ]
     },
     "execution_count": 82,
     "metadata": {},
     "output_type": "execute_result"
    }
   ],
   "source": [
    "np.array([[9.7969, 0.9693119, 0.42121571],\n",
    "          [125,125,125],\n",
    "          [0,0,0],\n",
    "          [1,1,1]])/eVals"
   ]
  }
 ],
 "metadata": {
  "kernelspec": {
   "display_name": "Python 3",
   "language": "python",
   "name": "python3"
  },
  "language_info": {
   "codemirror_mode": {
    "name": "ipython",
    "version": 3
   },
   "file_extension": ".py",
   "mimetype": "text/x-python",
   "name": "python",
   "nbconvert_exporter": "python",
   "pygments_lexer": "ipython3",
   "version": "3.7.4"
  }
 },
 "nbformat": 4,
 "nbformat_minor": 2
}
