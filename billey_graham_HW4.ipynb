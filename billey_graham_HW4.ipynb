{
 "cells": [
  {
   "cell_type": "markdown",
   "metadata": {},
   "source": [
    "#### ISYE 6740 - Machine Learning\n",
    "\n",
    "Homework 4 - Graham Billey"
   ]
  },
  {
   "cell_type": "markdown",
   "metadata": {},
   "source": [
    "### **1) Implementing the EM algorithm on the MNIST dataset.**\n",
    "\n",
    "Implement the EM algorithm for fitting a Gaussian mixture model for the MNIST dataset. We reduce\n",
    "the dataset to be only two cases, of digits $2$ and $6$ only. Thus, you will fit GMM with `C = 2`. Use\n",
    "the data file `data.mat` or `data.dat` on Canvas. True label of the data are also provided in `label.mat` and\n",
    "`label.dat`\n",
    "\n",
    "The matrix images is of size $784$-by-$1990$, i.e., there are totally 1990 images, and each column of the\n",
    "matrix corresponds to one image of size $28$-by-$28$ pixels (the image is vectorized; the original image\n",
    "can be recovered by map the vector into a matrix.)\n",
    "\n",
    "Hint: You may find the notes `speed-up-GMM.pdf` useful, which explains how to evaluate the density of\n",
    "a multi-variate normal distribution. In this homework question, it is recommended you implement the\n",
    "evaluation of the Gaussian density this way, to avoid numerical issues."
   ]
  },
  {
   "cell_type": "markdown",
   "metadata": {},
   "source": [
    "**a) Select from data one raw image of $2$ and $6$ and visualize them, respectively.**"
   ]
  },
  {
   "cell_type": "code",
   "execution_count": 1,
   "metadata": {},
   "outputs": [],
   "source": [
    "import time\n",
    "import numpy as np\n",
    "import matplotlib.pyplot as plt\n",
    "from scipy.io import loadmat\n",
    "from scipy.stats import multivariate_normal as mvn\n",
    "\n",
    "data = loadmat('data.mat')['data'].T\n",
    "images, dimensions = data.shape\n",
    "\n",
    "labels = loadmat('label.mat')['trueLabel'].T"
   ]
  },
  {
   "cell_type": "code",
   "execution_count": 2,
   "metadata": {},
   "outputs": [
    {
     "name": "stdout",
     "output_type": "stream",
     "text": [
      "Two handwritten digits from the MNIST dataset.\n"
     ]
    },
    {
     "data": {
      "image/png": "[encoded data removed]",
      "text/plain": [
       "<Figure size 720x720 with 2 Axes>"
      ]
     },
     "metadata": {
      "needs_background": "light"
     },
     "output_type": "display_data"
    }
   ],
   "source": [
    "examples = [0, -1]\n",
    "numbers = [2, 6]\n",
    "fig = plt.figure(figsize=(10,10))\n",
    "for i in range(2):\n",
    "    ax = fig.add_subplot(1,2,i+1)\n",
    "    ax.set_title(f'The number {numbers[i]}')\n",
    "    imgplot = ax.imshow(np.reshape(data[examples[i]], (28,28), order='F'), cmap='Greys')\n",
    "    \n",
    "print('Two handwritten digits from the MNIST dataset.')\n",
    "plt.show()"
   ]
  },
  {
   "cell_type": "markdown",
   "metadata": {},
   "source": [
    "**b) Use random Gaussian vector with zero mean as random initial means, and two identity matrices I as initial covariance matrices for the clusters. Plot the log-likelihood function versus the number of iterations to show your algorithm is  converging.**"
   ]
  },
  {
   "cell_type": "code",
   "execution_count": 3,
   "metadata": {},
   "outputs": [],
   "source": [
    "def fast_gaussian_pdf(x, mu, sigma, r):\n",
    "    n, m = x.shape\n",
    "\n",
    "    # Compute the eigendecomposition of sigma, in DESCENDING order of eigenvalues\n",
    "    eVals, eVecs = np.linalg.eig(sigma)\n",
    "    idx = eVals.argsort()[::-1]   \n",
    "    eVals = eVals[idx]\n",
    "    eVecs = eVecs[:,idx]\n",
    "\n",
    "    # Compute the low-rank approximation of sigma\n",
    "    U_hat = eVecs[:,0:r]\n",
    "    Lambda_hat = np.diag(eVals[0:r])\n",
    "    Sigma_hat = U_hat @ Lambda_hat @ U_hat.T\n",
    "\n",
    "    # Compute the transformation of the data and parameters\n",
    "    data_hat = (U_hat.T @ data.T).T\n",
    "    mu_hat = (U_hat.T @ mu)\n",
    "\n",
    "    # Compute the log-likelihood of the density\n",
    "#     minus_log_A = -0.5 * (m*np.log(2*np.pi) + np.sum(np.log(eVals[0:r])))\n",
    "    minus_log_A = -0.5 * (np.sum(np.log(eVals[0:r])))      # Removing the -m*np.log(2*np.pi) due to numerical issues\n",
    "    B = -1/2*np.sum((data_hat-mu_hat)**2/eVals[0:r],axis=1)\n",
    "\n",
    "    log_lik = minus_log_A + B\n",
    "    \n",
    "    # Return the actual likelihood\n",
    "    return np.exp(log_lik)\n",
    "    "
   ]
  },
  {
   "cell_type": "code",
   "execution_count": 4,
   "metadata": {},
   "outputs": [],
   "source": [
    "def initialize_EM(k, data):\n",
    "    ''' k is the number of Gaussians '''\n",
    "    m, d = data.shape\n",
    "    \n",
    "    pis = np.ones(k)/sum(np.ones(k))\n",
    "    mus = []\n",
    "    sigmas = []\n",
    "    \n",
    "    for i in range(k):\n",
    "        mus.append(mvn.rvs(mean=np.zeros(d)))\n",
    "        sigmas.append(np.identity(d))\n",
    "        \n",
    "    mus = np.stack(mus)\n",
    "    sigmas = np.stack(sigmas)\n",
    "    \n",
    "    return mus, pis, sigmas"
   ]
  },
  {
   "cell_type": "code",
   "execution_count": 11,
   "metadata": {},
   "outputs": [],
   "source": [
    "def Gaussian_EM(data, k, r, max_iter=10):\n",
    "    ''' k is the number of Gaussians to fit.\n",
    "        r is the number of dimensions to use when approximating the Gaussian pdf. '''\n",
    "    \n",
    "    print('Running Guassian_EM...')\n",
    "\n",
    "    m, d = data.shape\n",
    "    log_lik = []\n",
    "    t0=time.time()\n",
    "    \n",
    "    ###### Initialize the mus, pis, and sigmas parameters ######\n",
    "    mus, pis, sigmas = initialize_EM(k, data)\n",
    "    \n",
    "    ##### Iterate through the E-M algorithm #####\n",
    "    for itn in range(max_iter):\n",
    "#         print(f'Beginning EM Iteration {itn+1}...')\n",
    "            \n",
    "        ###### Expectation Step ######\n",
    "        taus = np.zeros(shape=(m, k))\n",
    "        for c in range(k):\n",
    "            probs = fast_gaussian_pdf(data, mus[c], sigmas[c], r)\n",
    "            taus[:,c] = probs\n",
    "\n",
    "        taus = taus*pis\n",
    "        log_lik.append(np.sum(np.log(np.sum(taus, axis=1))))\n",
    "        taus /= taus.sum(axis=1)[:,None]\n",
    "\n",
    "        ###### Maximization Step ######\n",
    "        mus = ((taus.T @ data).T/np.sum(taus, axis=0)).T\n",
    "        pis = np.sum(taus, axis=0)/m\n",
    "        \n",
    "        sigmas = np.zeros(shape=(k,d,d))\n",
    "        for c in range(k):     # clusters\n",
    "            for i in range(m): # datapoints\n",
    "                tau_ik = taus[i,c]\n",
    "                vec = data[i,:] - mus[c,:]\n",
    "                sigmas[c,:,:] += np.outer(vec, vec)*tau_ik\n",
    "            sigmas[c,:,:] /= np.sum(taus, axis=0)[c]\n",
    "\n",
    "    print(f'Gaussian EM has finished running in {round(time.time() - t0,0)} seconds.')\n",
    "    return pis, mus, sigmas, taus, log_lik, itn    \n",
    "            "
   ]
  },
  {
   "cell_type": "code",
   "execution_count": 12,
   "metadata": {},
   "outputs": [
    {
     "name": "stdout",
     "output_type": "stream",
     "text": [
      "Running Guassian_EM...\n",
      "Gaussian EM has finished running in 942.0 seconds.\n"
     ]
    }
   ],
   "source": [
    "import warnings\n",
    "warnings.filterwarnings('ignore')\n",
    "\n",
    "p, m, s, t, ll, it = Gaussian_EM(data, k=2, r=15, max_iter=50)"
   ]
  },
  {
   "cell_type": "code",
   "execution_count": 13,
   "metadata": {},
   "outputs": [
    {
     "data": {
      "image/png": "[encoded data removed]",
      "text/plain": [
       "<Figure size 432x288 with 1 Axes>"
      ]
     },
     "metadata": {
      "needs_background": "light"
     },
     "output_type": "display_data"
    }
   ],
   "source": [
    "plt.plot(range(1,len(ll)),ll[1:])\n",
    "plt.title('Log-Likelihood vs Iterations')\n",
    "plt.xlabel('Iterations of E-M Algorithm')\n",
    "plt.ylabel('Log-Likelihood of E-M Result')\n",
    "plt.show()"
   ]
  },
  {
   "cell_type": "markdown",
   "metadata": {},
   "source": [
    "From the plot above we can see the algorithm approach its limit at around 15 iterations. There is some cyclical behavior around the limit, likely due to the simplified calculation of the Log-Likelihood in the  `fast_gaussian_pdf()` function."
   ]
  },
  {
   "cell_type": "markdown",
   "metadata": {},
   "source": [
    "**c) Report, the fitting GMM model when EM has terminated in your algorithms, including the weights for each component and the mean vectors (please reformat the vectors into $28$-$28$ images. Ideally, you should be able to see these means correcponds to \"average\" images. No need to report the covariance matrices.**"
   ]
  },
  {
   "cell_type": "code",
   "execution_count": 14,
   "metadata": {},
   "outputs": [
    {
     "name": "stdout",
     "output_type": "stream",
     "text": [
      "Two handwritten digits from the MNIST dataset.\n"
     ]
    },
    {
     "data": {
      "image/png": "[encoded data removed]",
      "text/plain": [
       "<Figure size 720x720 with 2 Axes>"
      ]
     },
     "metadata": {
      "needs_background": "light"
     },
     "output_type": "display_data"
    }
   ],
   "source": [
    "fig = plt.figure(figsize=(10,10))\n",
    "for i in range(2):\n",
    "    ax = fig.add_subplot(1,2,i+1)\n",
    "#     ax.set_title(f'The number {numbers[i]}')\n",
    "    imgplot = ax.imshow(np.reshape(m[i], (28,28), order='F'), cmap='Greys')\n",
    "    \n",
    "print('Two handwritten digits from the MNIST dataset.')\n",
    "plt.show()"
   ]
  },
  {
   "cell_type": "code",
   "execution_count": 37,
   "metadata": {},
   "outputs": [
    {
     "name": "stdout",
     "output_type": "stream",
     "text": [
      "The weights for each cluster are: [0.4367032 0.5632968]\n"
     ]
    }
   ],
   "source": [
    "print(f'The weights for each cluster are: {p}')"
   ]
  },
  {
   "cell_type": "markdown",
   "metadata": {},
   "source": [
    "**d) Use the $p_ic$ to infer the labels of the images, and compare with the true albels. Report the misclassification rate for digits \"2\" and \"6\", respectively. Perform K-means clustering with K=2. Find out the misclassificatin rate for sigits \"2\" and \"6\", respectively, and compare with your GMM. Which one achieves better performance?**"
   ]
  },
  {
   "cell_type": "code",
   "execution_count": 38,
   "metadata": {},
   "outputs": [],
   "source": [
    "# Predict the labels for each datapoint\n",
    "t_rounded = np.round(t)\n",
    "t_rounded[:,0] = t_rounded[:,0]*2\n",
    "t_rounded[:,1] = t_rounded[:,1]*6\n",
    "pred_labels = np.sum(t_rounded, axis=1)\n",
    "pred_labels = pred_labels.reshape((1990, 1))"
   ]
  },
  {
   "cell_type": "code",
   "execution_count": 80,
   "metadata": {},
   "outputs": [
    {
     "name": "stdout",
     "output_type": "stream",
     "text": [
      "We predicted 846 digits to be number 2 \n",
      "\n",
      "There are actually 1032 digits that are number 2 \n",
      "\n",
      "We accurately categorized 695 of the \"2\" digits, and incorrectly labeled 151 digits as \"2\" \n",
      "\n",
      "Our accuracy labeling \"2\" digits is 82.15% \n",
      "\n",
      "---------------------------------\n",
      "We predicted 1144 digits to be number 6 \n",
      "\n",
      "There are actually 958 digits that are number 6 \n",
      "\n",
      "We accurately categorized 807 of the \"6\" digits, and incorrectly labeled 337 digits as \"6\" \n",
      "\n",
      "Our accuracy labeling \"6\" digits is 70.54% \n",
      "\n"
     ]
    }
   ],
   "source": [
    "# Calculate prediction accuracy for data labeled 2 and 6\n",
    "\n",
    "pred2 = set(np.where(pred_labels==2)[0])\n",
    "print(f'We predicted {len(pred2)} digits to be number 2 \\n')\n",
    "act2 = set(np.where(labels==2)[0])\n",
    "print(f'There are actually {len(act2)} digits that are number 2 \\n')\n",
    "print(f'We accurately categorized {len(pred2&act2)} of the \"2\" digits, and incorrectly labeled {len(pred2-act2)} digits as \"2\" \\n')\n",
    "print(f'Our accuracy labeling \"2\" digits is {round(len(pred2&act2)/len(pred2)*100,2)}% \\n')\n",
    "\n",
    "print('---------------------------------')\n",
    "\n",
    "pred6 = set(np.where(pred_labels==6)[0])\n",
    "print(f'We predicted {len(pred6)} digits to be number 6 \\n')\n",
    "act6 = set(np.where(labels==6)[0])\n",
    "print(f'There are actually {len(act6)} digits that are number 6 \\n')\n",
    "print(f'We accurately categorized {len(pred6&act6)} of the \"6\" digits, and incorrectly labeled {len(pred6-act6)} digits as \"6\" \\n')\n",
    "print(f'Our accuracy labeling \"6\" digits is {round(len(pred6&act6)/len(pred6)*100,2)}% \\n')\n"
   ]
  },
  {
   "cell_type": "code",
   "execution_count": 81,
   "metadata": {},
   "outputs": [],
   "source": [
    "from sklearn.cluster import KMeans"
   ]
  },
  {
   "cell_type": "code",
   "execution_count": 104,
   "metadata": {},
   "outputs": [
    {
     "name": "stdout",
     "output_type": "stream",
     "text": [
      "K-means ran in 0.0 seconds \n",
      "\n",
      "K-means predicted 1044 digits to be number 2 \n",
      "\n",
      "There are actually 1032 digits that are number 2 \n",
      "\n",
      "K-means accurately categorized 976 of the \"2\" digits, and incorrectly labeled 68 digits as \"2\" \n",
      "\n",
      "K-means accuracy labeling \"2\" digits is 93.49% \n",
      "\n",
      "--------------------------------- \n",
      "\n",
      "K-means predicted 946 digits to be number 6 \n",
      "\n",
      "There are actually 958 digits that are number 6 \n",
      "\n",
      "K-means accurately categorized 890 of the \"6\" digits, and incorrectly labeled 56 digits as \"6\" \n",
      "\n",
      "K-means accuracy labeling \"6\" digits is 94.08% \n",
      "\n"
     ]
    }
   ],
   "source": [
    "kmeans = KMeans(n_clusters=2, random_state=0).fit(data)\n",
    "t0=time.time()\n",
    "kmeans.labels_\n",
    "print(f'K-means ran in {time.time() - t0} seconds \\n')\n",
    "\n",
    "pred2_k = set(np.where(kmeans.labels_==0)[0])\n",
    "print(f'K-means predicted {len(pred2_k)} digits to be number 2 \\n')\n",
    "print(f'There are actually {len(act2)} digits that are number 2 \\n')\n",
    "print(f'K-means accurately categorized {len(pred2_k&act2)} of the \"2\" digits, and incorrectly labeled {len(pred2_k-act2)} digits as \"2\" \\n')\n",
    "print(f'K-means accuracy labeling \"2\" digits is {round(len(pred2_k&act2)/len(pred2_k)*100,2)}% \\n')\n",
    "\n",
    "print('--------------------------------- \\n')\n",
    "\n",
    "pred6_k = set(np.where(kmeans.labels_==1)[0])\n",
    "print(f'K-means predicted {len(pred6_k)} digits to be number 6 \\n')\n",
    "print(f'There are actually {len(act6)} digits that are number 6 \\n')\n",
    "print(f'K-means accurately categorized {len(pred6_k&act6)} of the \"6\" digits, and incorrectly labeled {len(pred6_k-act6)} digits as \"6\" \\n')\n",
    "print(f'K-means accuracy labeling \"6\" digits is {round(len(pred6_k&act6)/len(pred6_k)*100,2)}% \\n')"
   ]
  },
  {
   "cell_type": "code",
   "execution_count": 100,
   "metadata": {},
   "outputs": [
    {
     "data": {
      "text/plain": [
       "94200.0"
      ]
     },
     "execution_count": 100,
     "metadata": {},
     "output_type": "execute_result"
    }
   ],
   "source": [
    "942/0.01"
   ]
  },
  {
   "cell_type": "markdown",
   "metadata": {},
   "source": [
    "In this case, K-Means was not only _**at least 90,000 times faster**_ than the EM algorithm (the generic `time.time()` function could not calculate the time K-Means took to run), but it was also much more accurate than the EM algorithm.\n",
    "\n",
    "The prediction accuracy increased when using K-Means, from 82.2% to 93.5% (number 2) and from 70.5% to 94.1% (number 6).\n",
    "\n",
    "This example did little to instill confidence in me that the EM algorithm is superior to other _**much simpler**_ algorithms, like K-Means."
   ]
  },
  {
   "cell_type": "markdown",
   "metadata": {},
   "source": [
    "-------------------\n",
    "\n",
    "-------------------"
   ]
  },
  {
   "cell_type": "markdown",
   "metadata": {},
   "source": [
    "### **2) Basic Optimization**\n",
    "\n",
    "Consider a simplified logistic regression problem. Given $n$ training samples $(x_i, y_i), i = 1, ..., n$, the data $x_i \\in \\mathbb{R}, y \\in {0, 1}$. To train/fit a logistic regression model for classification, we solve the following optimization problem, where $\\theta \\in \\mathbb{R}$ is a parameter we aim to find: $$ \\max_\\theta l(\\theta) $$.\n",
    "\n",
    "Where the log-likelihood function is: $$ l(\\theta) = \\sum_{i=1}^n \\{-log(1+e^{-\\theta x_i}) + (y_i - 1)\\theta x_i \\} $$"
   ]
  },
  {
   "cell_type": "markdown",
   "metadata": {},
   "source": [
    "**a) Derive the gradient of the cost function $l(\\theta)$, and write pseudo-code for performing gradient descent to find the optimizer $\\theta^*$.**"
   ]
  },
  {
   "cell_type": "markdown",
   "metadata": {},
   "source": [
    "$ \\large l(\\theta) = \\sum_{i=1}^n \\{-log(1+e^{-\\theta x_i}) + (y_i - 1)\\theta x_i \\}$\n",
    "\n",
    "$ \\large \\quad\\quad = \\sum_{i=1}^n \\{ y_i \\theta x_i - \\theta x_i  -log(1+e^{-\\theta x_i}) \\} $\n",
    "\n",
    "Using the identity $ log(a) + log(b) = log(ab) $,\n",
    "\n",
    "$ \\large \\quad\\quad = \\sum_{i=1}^n \\{ y_i \\theta x_i -log(1+e^{\\theta x_i}) \\} $\n",
    "\n",
    "Now we take the derivative w.r.t. $\\theta$...\n",
    "\n",
    "$ \\large \\frac{\\partial}{\\partial \\theta} \\sum_{i=1}^n \\{ y_i \\theta x_i -log(1+e^{\\theta x_i}) \\} $\n",
    "\n",
    "$ \\large \\quad\\quad = \\frac{\\partial}{\\partial \\theta}  \\sum_{i=1}^n\\{ y_i \\theta x_i \\} - \\frac{\\partial}{\\partial \\theta}  \\sum_{i=1}^n \\{ log(1 + e^{\\theta x_i}) \\}$\n",
    "\n",
    "$ \\large \\quad\\quad = \\sum_{i=1}^n \\{ y_i x_i - \\frac{x_i e^{\\theta x_i}}{1 + e^{\\theta x_i}} \\} $"
   ]
  },
  {
   "cell_type": "markdown",
   "metadata": {},
   "source": [
    "**Algorithm for performing gradient descent:**\n",
    "\n",
    "> 1) Initialize $\\theta$. In general you can pick a random initial value in the domain $\\theta \\in \\mathbb{R}$.\n",
    "\n",
    "> 2) Plug theta into the derivative shown above (using **all** data points) to calculate the slope of the log-likelihood function at that value of $\\theta$.\n",
    "\n",
    "> 3) Choose the direction that maximizes $l(\\theta)$, or equivalently minimizes $- l(\\theta)$. Since this problem only has one parameter, we will either be increasing or decreasing $\\theta$.\n",
    "\n",
    "> 4) Update $\\theta$ by an amount proportional to the gradient. i.e. $\\theta_{new} = \\theta - \\alpha \\nabla$\n",
    "\n",
    "> 5) Repeat steps 2 - 4 until a termination criterion is met. Either a predetermined number of iterations has occurred, or the change in the log-likelihood between consectuive steps is sufficiently small."
   ]
  },
  {
   "cell_type": "markdown",
   "metadata": {},
   "source": [
    "**b) Write down a stochastic gradient-descent algorithm to solve the training of the logistic regression problem.**"
   ]
  },
  {
   "cell_type": "markdown",
   "metadata": {},
   "source": [
    "**Algorithm for performing _stochastic_ gradient descent:**\n",
    "\n",
    "> 1) Initialize $\\theta$. In general you can pick a random initial value in the domain $\\theta \\in \\mathbb{R}$.\n",
    "\n",
    ">> 2a) Randomly choose one data point to use to evaluate the gradient at that point.\n",
    "\n",
    ">> 2b) Plug theta into the derivative shown above (using **the chosen** data point) to calculate the slope of the log-likelihood function at that value of $\\theta$.\n",
    "\n",
    "> 3) Choose the direction that maximizes $l(\\theta)$, or equivalently minimizes $- l(\\theta)$. Since this problem only has one parameter, we will either be increasing or decreasing $\\theta$.\n",
    "\n",
    "> 4) Update $\\theta$ by an amount proportional to the gradient. i.e. $\\theta_{new} = \\theta - \\alpha \\nabla$\n",
    "\n",
    "> 5) Repeat steps 2 - 4 until a termination criterion is met. Either a predetermined number of iterations has occurred, or the change in the log-likelihood between consectuive steps is sufficiently small."
   ]
  },
  {
   "cell_type": "markdown",
   "metadata": {},
   "source": [
    "**c) Show that the training problem in logistic regression is concave.** Derive the Hessian matrix of $l(\\theta)$. Explain why the problem can be solved efficiently and gradient descent will achieve a unique global optimizer."
   ]
  },
  {
   "cell_type": "markdown",
   "metadata": {},
   "source": [
    "$ \\large H = \\frac{\\partial^2}{\\partial(\\theta)^2} \\,\\, l(\\theta) $\n",
    "\n",
    "$ \\large \\quad\\quad = \\frac{\\partial}{\\partial(\\theta)} \\sum_{i=1}^n \\{ y_i x_i - \\frac{x_i e^{\\theta x_i}}{1 + e^{\\theta x_i}} \\} $\n",
    "\n",
    "$ \\large \\quad\\quad = \\sum_{i=1}^n \\{ -\\frac{x_i^2 e^{\\theta x_i}}{(e^{\\theta x_i} + 1)^2} \\} $\n",
    "\n",
    "Since $\\large x_i, \\theta \\in \\mathbb{R}$, $\\large H \\leq 0 \\quad \\forall x_i, \\theta$. **Thus the log-likelihood $l(\\theta)$ is concave.**\n",
    "\n",
    "Because $l(\\theta)$ is concave, we know that any local optimum is also a global optimum. With a reasonable learning rate, gradient descent always efficiently converges to a local optimum. **Thus it will always reach a global optimum.**"
   ]
  }
 ],
 "metadata": {
  "kernelspec": {
   "display_name": "Python 3",
   "language": "python",
   "name": "python3"
  },
  "language_info": {
   "codemirror_mode": {
    "name": "ipython",
    "version": 3
   },
   "file_extension": ".py",
   "mimetype": "text/x-python",
   "name": "python",
   "nbconvert_exporter": "python",
   "pygments_lexer": "ipython3",
   "version": "3.7.4"
  }
 },
 "nbformat": 4,
 "nbformat_minor": 2
}
